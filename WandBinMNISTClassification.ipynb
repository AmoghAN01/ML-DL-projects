{
 "cells": [
  {
   "cell_type": "markdown",
   "metadata": {},
   "source": [
    "# MNIST ConvNet Classifier with WandB Integration \n",
    "# \n",
    "## Overview:\n",
    "This project implements a Convolutional Neural Network(CNN) to classify handwritten digits from the MNIST dataset using PyTorch.The project leverages PyTorch's powerful deep learning framework to build and train the CNN model efficiently. A key feature is the integration of Weights & Biases (wandb) for comprehensive experiment tracking and visualization, allowing for detailed monitoring of the training process and model performance. This implementation not only showcases the effectiveness of CNNs in recognizing handwritten digits but also highlights modern practices in machine learning development, including the use of advanced tools for performance tracking and analysis. \n",
    "\n",
    "## Requirements\n",
    "Python 3.x\n",
    "\n",
    "PyTorch\n",
    "\n",
    "torchvision\n",
    "\n",
    "matplotlib\n",
    "\n",
    "numpy\n",
    "\n",
    "wandb\n",
    "\n",
    "## Methodology:\n",
    "The project follows a structured approach to build and train the CNN model. It starts by loading and preprocessing the MNIST dataset using PyTorch's data loaders. The CNN architecture is then defined, consisting of two convolutional layers and two fully connected layers, with ReLU activation and max pooling. The model is trained using the Adam optimizer and Negative Log Likelihood Loss function. The training process is conducted over 10 epochs with a batch size of 512. Importantly, the project integrates Weights & Biases (wandb) for comprehensive experiment tracking and visualization, allowing for detailed monitoring of the training process and model performance.\n",
    "\n",
    "## Results:\n",
    "The MNIST ConvNet Classifier achieves impressive results after 10 epochs of training. The model attains a test accuracy of 98.95% and a test loss of 0.03433, demonstrating its effectiveness in classifying handwritten digits. These results are meticulously tracked and visualized using wandb, providing comprehensive insights into the model's performance over time. The integration of wandb not only facilitates easy monitoring of training progress but also enables detailed analysis of loss and accuracy metrics, making it an invaluable tool for model development and optimization."
   ]
  },
  {
   "cell_type": "code",
   "execution_count": 1,
   "metadata": {},
   "outputs": [],
   "source": [
    "import torch\n",
    "import torch.nn as nn\n",
    "import torch.nn.functional as F\n",
    "import torch.optim as optim\n",
    "from torchvision import datasets, transforms\n",
    "import matplotlib.pyplot as plt\n",
    "import numpy as np\n",
    "import wandb "
   ]
  },
  {
   "cell_type": "code",
   "execution_count": 2,
   "metadata": {},
   "outputs": [
    {
     "name": "stderr",
     "output_type": "stream",
     "text": [
      "\u001b[34m\u001b[1mwandb\u001b[0m: Using wandb-core as the SDK backend. Please refer to https://wandb.me/wandb-core for more information.\n",
      "\u001b[34m\u001b[1mwandb\u001b[0m: Currently logged in as: \u001b[33mamogh-ajith\u001b[0m (\u001b[33mamogh-ajith-amrita-vishwa-vidyapeetham\u001b[0m). Use \u001b[1m`wandb login --relogin`\u001b[0m to force relogin\n"
     ]
    },
    {
     "data": {
      "text/html": [
       "Tracking run with wandb version 0.18.3"
      ],
      "text/plain": [
       "<IPython.core.display.HTML object>"
      ]
     },
     "metadata": {},
     "output_type": "display_data"
    },
    {
     "data": {
      "text/html": [
       "Run data is saved locally in <code>C:\\Users\\91963\\wandb\\run-20241129_033325-shmt47e6</code>"
      ],
      "text/plain": [
       "<IPython.core.display.HTML object>"
      ]
     },
     "metadata": {},
     "output_type": "display_data"
    },
    {
     "data": {
      "text/html": [
       "Syncing run <strong><a href='https://wandb.ai/amogh-ajith-amrita-vishwa-vidyapeetham/mnist_convnet/runs/shmt47e6' target=\"_blank\">ConvNet_MNIST</a></strong> to <a href='https://wandb.ai/amogh-ajith-amrita-vishwa-vidyapeetham/mnist_convnet' target=\"_blank\">Weights & Biases</a> (<a href='https://wandb.me/run' target=\"_blank\">docs</a>)<br/>"
      ],
      "text/plain": [
       "<IPython.core.display.HTML object>"
      ]
     },
     "metadata": {},
     "output_type": "display_data"
    },
    {
     "data": {
      "text/html": [
       " View project at <a href='https://wandb.ai/amogh-ajith-amrita-vishwa-vidyapeetham/mnist_convnet' target=\"_blank\">https://wandb.ai/amogh-ajith-amrita-vishwa-vidyapeetham/mnist_convnet</a>"
      ],
      "text/plain": [
       "<IPython.core.display.HTML object>"
      ]
     },
     "metadata": {},
     "output_type": "display_data"
    },
    {
     "data": {
      "text/html": [
       " View run at <a href='https://wandb.ai/amogh-ajith-amrita-vishwa-vidyapeetham/mnist_convnet/runs/shmt47e6' target=\"_blank\">https://wandb.ai/amogh-ajith-amrita-vishwa-vidyapeetham/mnist_convnet/runs/shmt47e6</a>"
      ],
      "text/plain": [
       "<IPython.core.display.HTML object>"
      ]
     },
     "metadata": {},
     "output_type": "display_data"
    }
   ],
   "source": [
    "wandb.init(project=\"mnist_convnet\", name=\"ConvNet_MNIST\")\n",
    "\n",
    "BATCH_SIZE = 512\n",
    "EPOCHS = 10\n",
    "DEVICE = torch.device(\"cuda\" if torch.cuda.is_available() else \"cpu\")\n"
   ]
  },
  {
   "cell_type": "code",
   "execution_count": 3,
   "metadata": {},
   "outputs": [],
   "source": [
    "train_loader = torch.utils.data.DataLoader(\n",
    "        datasets.MNIST('data', train=True, download=True, \n",
    "                       transform=transforms.Compose([\n",
    "                           transforms.ToTensor(),\n",
    "                           transforms.Normalize((0.1307,), (0.3081,))\n",
    "                       ])),\n",
    "        batch_size=BATCH_SIZE, shuffle=True)\n",
    "\n",
    "test_loader = torch.utils.data.DataLoader(\n",
    "        datasets.MNIST('data', train=False, transform=transforms.Compose([\n",
    "                           transforms.ToTensor(),\n",
    "                           transforms.Normalize((0.1307,), (0.3081,))\n",
    "                       ])),\n",
    "        batch_size=BATCH_SIZE, shuffle=True)\n",
    "\n"
   ]
  },
  {
   "cell_type": "code",
   "execution_count": 4,
   "metadata": {},
   "outputs": [
    {
     "data": {
      "image/png": "[encoded data removed]",
      "text/plain": [
       "<Figure size 864x144 with 5 Axes>"
      ]
     },
     "metadata": {
      "needs_background": "light"
     },
     "output_type": "display_data"
    }
   ],
   "source": [
    "def show_sample_images(data_loader):\n",
    "    batch = next(iter(data_loader))  \n",
    "    images, labels = batch  \n",
    "    images = images[:5]\n",
    "    labels = labels[:5]\n",
    "\n",
    "    fig, axes = plt.subplots(1, 5, figsize=(12, 2))\n",
    "    for i in range(5):\n",
    "        image = images[i].numpy().squeeze()\n",
    "        axes[i].imshow(image, cmap='gray')\n",
    "        axes[i].set_title(f'Label: {labels[i].item()}')\n",
    "        axes[i].axis('off')\n",
    "    plt.show()\n",
    "\n",
    "show_sample_images(train_loader)\n",
    "\n"
   ]
  },
  {
   "cell_type": "code",
   "execution_count": 5,
   "metadata": {},
   "outputs": [],
   "source": [
    "class ConvNet(nn.Module):\n",
    "    def __init__(self):\n",
    "        super().__init__()\n",
    "        self.conv1 = nn.Conv2d(1, 10, 5)\n",
    "        self.conv2 = nn.Conv2d(10, 20, 3)\n",
    "        self.fc1 = nn.Linear(20*10*10, 500)\n",
    "        self.fc2 = nn.Linear(500, 10)\n",
    "\n",
    "    def forward(self, x):\n",
    "        in_size = x.size(0)\n",
    "        out = self.conv1(x)\n",
    "        out = F.relu(out)\n",
    "        out = F.max_pool2d(out, 2, 2)\n",
    "        out = self.conv2(out)\n",
    "        out = F.relu(out)\n",
    "        out = out.view(in_size, -1)\n",
    "        out = self.fc1(out)\n",
    "        out = F.relu(out)\n",
    "        out = self.fc2(out)\n",
    "        out = F.log_softmax(out, dim=1)\n",
    "        return out\n",
    "\n"
   ]
  },
  {
   "cell_type": "code",
   "execution_count": 6,
   "metadata": {},
   "outputs": [],
   "source": [
    "model = ConvNet().to(DEVICE)\n",
    "optimizer = optim.Adam(model.parameters())\n",
    "\n"
   ]
  },
  {
   "cell_type": "code",
   "execution_count": 7,
   "metadata": {},
   "outputs": [],
   "source": [
    "def train(model, device, train_loader, optimizer, epoch):\n",
    "    model.train()\n",
    "    for batch_idx, (data, target) in enumerate(train_loader):\n",
    "        data, target = data.to(device), target.to(device)\n",
    "        optimizer.zero_grad()\n",
    "        output = model(data)\n",
    "        loss = F.nll_loss(output, target)\n",
    "        loss.backward()\n",
    "        optimizer.step()\n",
    "\n",
    "\n",
    "        wandb.log({\"train_loss\": loss.item()})\n",
    "\n",
    "        if (batch_idx + 1) % 30 == 0:\n",
    "            print(f'Train Epoch: {epoch} [{batch_idx * len(data)}/{len(train_loader.dataset)} '\n",
    "                  f'({100. * batch_idx / len(train_loader):.0f}%)]\\tLoss: {loss.item():.6f}')\n",
    "\n"
   ]
  },
  {
   "cell_type": "code",
   "execution_count": 8,
   "metadata": {},
   "outputs": [],
   "source": [
    "def test(model, device, test_loader):\n",
    "    model.eval()\n",
    "    test_loss = 0\n",
    "    correct = 0\n",
    "    with torch.no_grad():\n",
    "        for data, target in test_loader:\n",
    "            data, target = data.to(device), target.to(device)\n",
    "            output = model(data)\n",
    "            test_loss += F.nll_loss(output, target, reduction='sum').item()\n",
    "            pred = output.max(1, keepdim=True)[1]\n",
    "            correct += pred.eq(target.view_as(pred)).sum().item()\n",
    "\n",
    "    test_loss /= len(test_loader.dataset)\n",
    "    accuracy = 100. * correct / len(test_loader.dataset)\n",
    "\n",
    "\n",
    "    wandb.log({\"test_loss\": test_loss, \"accuracy\": accuracy})\n",
    "\n",
    "    print(f'\\nTest set: Average loss: {test_loss:.4f}, Accuracy: {correct}/{len(test_loader.dataset)} '\n",
    "          f'({accuracy:.0f}%)\\n')\n",
    "\n"
   ]
  },
  {
   "cell_type": "code",
   "execution_count": 9,
   "metadata": {},
   "outputs": [
    {
     "name": "stdout",
     "output_type": "stream",
     "text": [
      "Train Epoch: 1 [14848/60000 (25%)]\tLoss: 0.354362\n",
      "Train Epoch: 1 [30208/60000 (50%)]\tLoss: 0.183917\n",
      "Train Epoch: 1 [45568/60000 (75%)]\tLoss: 0.163156\n",
      "\n",
      "Test set: Average loss: 0.0954, Accuracy: 9719/10000 (97%)\n",
      "\n",
      "Train Epoch: 2 [14848/60000 (25%)]\tLoss: 0.085585\n",
      "Train Epoch: 2 [30208/60000 (50%)]\tLoss: 0.074752\n",
      "Train Epoch: 2 [45568/60000 (75%)]\tLoss: 0.096309\n",
      "\n",
      "Test set: Average loss: 0.0567, Accuracy: 9812/10000 (98%)\n",
      "\n",
      "Train Epoch: 3 [14848/60000 (25%)]\tLoss: 0.036750\n",
      "Train Epoch: 3 [30208/60000 (50%)]\tLoss: 0.063170\n",
      "Train Epoch: 3 [45568/60000 (75%)]\tLoss: 0.061121\n",
      "\n",
      "Test set: Average loss: 0.0494, Accuracy: 9837/10000 (98%)\n",
      "\n",
      "Train Epoch: 4 [14848/60000 (25%)]\tLoss: 0.034941\n",
      "Train Epoch: 4 [30208/60000 (50%)]\tLoss: 0.043670\n",
      "Train Epoch: 4 [45568/60000 (75%)]\tLoss: 0.050178\n",
      "\n",
      "Test set: Average loss: 0.0455, Accuracy: 9851/10000 (99%)\n",
      "\n",
      "Train Epoch: 5 [14848/60000 (25%)]\tLoss: 0.024151\n",
      "Train Epoch: 5 [30208/60000 (50%)]\tLoss: 0.059742\n",
      "Train Epoch: 5 [45568/60000 (75%)]\tLoss: 0.030040\n",
      "\n",
      "Test set: Average loss: 0.0356, Accuracy: 9882/10000 (99%)\n",
      "\n",
      "Train Epoch: 6 [14848/60000 (25%)]\tLoss: 0.012252\n",
      "Train Epoch: 6 [30208/60000 (50%)]\tLoss: 0.014493\n",
      "Train Epoch: 6 [45568/60000 (75%)]\tLoss: 0.026844\n",
      "\n",
      "Test set: Average loss: 0.0344, Accuracy: 9885/10000 (99%)\n",
      "\n",
      "Train Epoch: 7 [14848/60000 (25%)]\tLoss: 0.008836\n",
      "Train Epoch: 7 [30208/60000 (50%)]\tLoss: 0.015295\n",
      "Train Epoch: 7 [45568/60000 (75%)]\tLoss: 0.016103\n",
      "\n",
      "Test set: Average loss: 0.0317, Accuracy: 9893/10000 (99%)\n",
      "\n",
      "Train Epoch: 8 [14848/60000 (25%)]\tLoss: 0.014661\n",
      "Train Epoch: 8 [30208/60000 (50%)]\tLoss: 0.035103\n",
      "Train Epoch: 8 [45568/60000 (75%)]\tLoss: 0.014297\n",
      "\n",
      "Test set: Average loss: 0.0366, Accuracy: 9882/10000 (99%)\n",
      "\n",
      "Train Epoch: 9 [14848/60000 (25%)]\tLoss: 0.008238\n",
      "Train Epoch: 9 [30208/60000 (50%)]\tLoss: 0.007442\n",
      "Train Epoch: 9 [45568/60000 (75%)]\tLoss: 0.026336\n",
      "\n",
      "Test set: Average loss: 0.0360, Accuracy: 9889/10000 (99%)\n",
      "\n",
      "Train Epoch: 10 [14848/60000 (25%)]\tLoss: 0.013770\n",
      "Train Epoch: 10 [30208/60000 (50%)]\tLoss: 0.006984\n",
      "Train Epoch: 10 [45568/60000 (75%)]\tLoss: 0.006121\n",
      "\n",
      "Test set: Average loss: 0.0343, Accuracy: 9895/10000 (99%)\n",
      "\n"
     ]
    },
    {
     "data": {
      "application/vnd.jupyter.widget-view+json": {
       "model_id": "",
       "version_major": 2,
       "version_minor": 0
      },
      "text/plain": [
       "VBox(children=(Label(value='0.008 MB of 0.008 MB uploaded\\r'), FloatProgress(value=1.0, max=1.0)))"
      ]
     },
     "metadata": {},
     "output_type": "display_data"
    },
    {
     "data": {
      "text/html": [
       "<style>\n",
       "    table.wandb td:nth-child(1) { padding: 0 10px; text-align: left ; width: auto;} td:nth-child(2) {text-align: left ; width: 100%}\n",
       "    .wandb-row { display: flex; flex-direction: row; flex-wrap: wrap; justify-content: flex-start; width: 100% }\n",
       "    .wandb-col { display: flex; flex-direction: column; flex-basis: 100%; flex: 1; padding: 10px; }\n",
       "    </style>\n",
       "<div class=\"wandb-row\"><div class=\"wandb-col\"><h3>Run history:</h3><br/><table class=\"wandb\"><tr><td>accuracy</td><td>▁▅▆▆▇██▇██</td></tr><tr><td>test_loss</td><td>█▄▃▃▁▁▁▂▁▁</td></tr><tr><td>train_loss</td><td>█▄▄▄▃▃▃▂▃▃▂▂▂▂▁▂▂▂▂▁▂▁▁▁▁▁▁▁▂▂▁▁▁▂▁▁▁▁▁▁</td></tr></table><br/></div><div class=\"wandb-col\"><h3>Run summary:</h3><br/><table class=\"wandb\"><tr><td>accuracy</td><td>98.95</td></tr><tr><td>test_loss</td><td>0.03433</td></tr><tr><td>train_loss</td><td>0.00511</td></tr></table><br/></div></div>"
      ],
      "text/plain": [
       "<IPython.core.display.HTML object>"
      ]
     },
     "metadata": {},
     "output_type": "display_data"
    },
    {
     "data": {
      "text/html": [
       " View run <strong style=\"color:#cdcd00\">ConvNet_MNIST</strong> at: <a href='https://wandb.ai/amogh-ajith-amrita-vishwa-vidyapeetham/mnist_convnet/runs/shmt47e6' target=\"_blank\">https://wandb.ai/amogh-ajith-amrita-vishwa-vidyapeetham/mnist_convnet/runs/shmt47e6</a><br/> View project at: <a href='https://wandb.ai/amogh-ajith-amrita-vishwa-vidyapeetham/mnist_convnet' target=\"_blank\">https://wandb.ai/amogh-ajith-amrita-vishwa-vidyapeetham/mnist_convnet</a><br/>Synced 5 W&B file(s), 0 media file(s), 0 artifact file(s) and 0 other file(s)"
      ],
      "text/plain": [
       "<IPython.core.display.HTML object>"
      ]
     },
     "metadata": {},
     "output_type": "display_data"
    },
    {
     "data": {
      "text/html": [
       "Find logs at: <code>.\\wandb\\run-20241129_033325-shmt47e6\\logs</code>"
      ],
      "text/plain": [
       "<IPython.core.display.HTML object>"
      ]
     },
     "metadata": {},
     "output_type": "display_data"
    }
   ],
   "source": [
    "for epoch in range(1, EPOCHS + 1):\n",
    "    train(model, DEVICE, train_loader, optimizer, epoch)\n",
    "    test(model, DEVICE, test_loader)\n",
    "\n",
    "\n",
    "wandb.finish()\n"
   ]
  },
  {
   "cell_type": "code",
   "execution_count": null,
   "metadata": {},
   "outputs": [],
   "source": []
  },
  {
   "cell_type": "code",
   "execution_count": null,
   "metadata": {},
   "outputs": [],
   "source": []
  }
 ],
 "metadata": {
  "kernelspec": {
   "display_name": "Python 3",
   "language": "python",
   "name": "python3"
  },
  "language_info": {
   "codemirror_mode": {
    "name": "ipython",
    "version": 3
   },
   "file_extension": ".py",
   "mimetype": "text/x-python",
   "name": "python",
   "nbconvert_exporter": "python",
   "pygments_lexer": "ipython3",
   "version": "3.7.7"
  }
 },
 "nbformat": 4,
 "nbformat_minor": 4
}
